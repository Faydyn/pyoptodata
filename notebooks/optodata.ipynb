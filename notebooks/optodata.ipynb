{
 "cells": [
  {
   "cell_type": "code",
   "execution_count": 255,
   "outputs": [],
   "source": [
    "import os\n",
    "\n",
    "import numpy as np\n",
    "import pandas as pd\n",
    "import matplotlib.pyplot as plt\n",
    "from numpy import dtype"
   ],
   "metadata": {
    "collapsed": false,
    "pycharm": {
     "name": "#%%\n"
    }
   }
  },
  {
   "cell_type": "code",
   "execution_count": 241,
   "outputs": [
    {
     "data": {
      "text/plain": "     Nr  Pat    ID Kürzel             OP-Datum  \\\n1     1  NaN  6126     WR  2020-09-22 00:00:00   \n2    73  NaN  6126     WR  2021-08-31 00:00:00   \n3   NaN  NaN   NaN    NaN                  NaN   \n4    24  NaN  6413     RJ  2021-03-30 00:00:00   \n5    43  NaN  6413     RJ  2021-06-01 00:00:00   \n6   NaN  NaN   NaN    NaN                  NaN   \n7   110  NaN  6464     AF  2021-11-16 00:00:00   \n8   133  NaN  6464     AF  2022-01-11 00:00:00   \n9   NaN  NaN   NaN    NaN                  NaN   \n10   25  NaN  6479     HW  2021-04-13 00:00:00   \n11   67  NaN  6479     HW  2021-08-17 00:00:00   \n12  NaN  NaN   NaN    NaN                  NaN   \n13  103  NaN  6480     GC  2021-11-02 00:00:00   \n14  135  NaN  6480     GC  2022-01-18 00:00:00   \n15  NaN  NaN   NaN    NaN                  NaN   \n16   66  NaN  6662     DC  2021-08-10 00:00:00   \n17   84  NaN  6662     DC  2021-09-21 00:00:00   \n18  NaN  NaN   NaN    NaN                  NaN   \n19   81  NaN  6705     GC  2021-09-14 00:00:00   \n20   96  NaN  6705     GC  2021-10-19 00:00:00   \n21  NaN  NaN   NaN    NaN                  NaN   \n22  105  NaN  6757     SW  2021-11-09 00:00:00   \n23  125  NaN  6757     SW  2021-12-21 00:00:00   \n24  NaN  NaN   NaN    NaN                  NaN   \n25  139  NaN  6801     WM  2022-02-01 00:00:00   \n26  156  NaN  6801     WM  2022-03-22 00:00:00   \n27  NaN  NaN   NaN    NaN                  NaN   \n28  NaN  NaN   NaN    NaN                  NaN   \n29  NaN  NaN   NaN    NaN                  NaN   \n30  NaN  NaN   NaN    NaN                  NaN   \n\n   Abstand OP- zum heutigen Tag (Datum in Zelle F1) Geschlecht Alter  \\\n1                                19 Monate, 27 Tage          w    54   \n2                                 8 Monate, 18 Tage          w    54   \n3                                               NaN        NaN   NaN   \n4                                13 Monate, 19 Tage          m    67   \n5                                11 Monate, 18 Tage          m    67   \n6                                               NaN        NaN   NaN   \n7                                  6 Monate, 3 Tage          m    57   \n8                                  4 Monate, 8 Tage          m    57   \n9                                               NaN        NaN   NaN   \n10                                13 Monate, 6 Tage          m    67   \n11                                 9 Monate, 2 Tage          m    67   \n12                                              NaN        NaN   NaN   \n13                                6 Monate, 17 Tage          w    56   \n14                                 4 Monate, 1 Tage          w    57   \n15                                              NaN        NaN   NaN   \n16                                 9 Monate, 9 Tage          w    66   \n17                                7 Monate, 28 Tage          w    66   \n18                                              NaN        NaN   NaN   \n19                                 8 Monate, 5 Tage          w    57   \n20                                 7 Monate, 0 Tage          w    57   \n21                                              NaN        NaN   NaN   \n22                                6 Monate, 10 Tage          m    51   \n23                                4 Monate, 28 Tage          m    51   \n24                                              NaN        NaN   NaN   \n25                                3 Monate, 18 Tage          w    49   \n26                                1 Monate, 27 Tage          w    49   \n27                                              NaN        NaN   NaN   \n28                                              NaN        NaN   NaN   \n29                                              NaN        NaN   NaN   \n30                                              NaN        NaN   NaN   \n\n   R/L (FA markieren) IOL [dpt]  ...  -2.5  -2.0  -1.5  -1.0  -0.5   0.0  \\\n1                   L        19  ...  0.20  0.16  0.02  0.02 -0.06 -0.02   \n2                   R        20  ...  0.12  0.04 -0.08  0.00 -0.10  0.02   \n3                Bino       NaN  ...  0.04 -0.04 -0.06  0.00 -0.04 -0.04   \n4                   L      15.5  ...  0.16  0.16  0.08  0.08  0.06  0.12   \n5                   R        18  ...  0.02  0.04  0.02  0.06 -0.08  0.06   \n6                Bino       NaN  ...  0.02  0.02 -0.08 -0.10 -0.10 -0.02   \n7                  LA        26  ...  0.26  0.10  0.14  0.00 -0.02  0.14   \n8                  RA      25.5  ...  0.10  0.04 -0.06  0.02  0.14  0.56   \n9                Bino       NaN  ...  0.02 -0.06 -0.10 -0.02  0.02  0.12   \n10                  R        17  ...  0.02  0.02 -0.02 -0.10 -0.08  0.20   \n11                  L        16  ...  0.20  0.30  0.14  0.04 -0.04  0.02   \n12               Bino       NaN  ...  0.12  0.00 -0.06 -0.14 -0.04 -0.10   \n13                 RA      18.5  ...  0.12  0.06  0.02 -0.04 -0.06  0.04   \n14                 LA        18  ...  0.16  0.10  0.04  0.04 -0.02 -0.08   \n15               Bino       NaN  ...  0.04  0.04  0.04 -0.08 -0.10 -0.08   \n16                  R      20.5  ...  0.06  0.14  0.00  0.02  0.00  0.08   \n17                  L      18.5  ...  0.54  0.14  0.20  0.14  0.04  0.00   \n18               Bino       NaN  ...  0.16  0.06  0.06 -0.04 -0.04  0.04   \n19                  L      25.5  ...  0.08  0.06  0.04 -0.06 -0.08 -0.06   \n20                  R      25.5  ...  0.10  0.06  0.04  0.02 -0.10 -0.10   \n21               Bino       NaN  ...  0.04  0.00 -0.12 -0.12 -0.18 -0.12   \n22                 LA      17.5  ...  0.06  0.06  0.10  0.08  0.02  0.04   \n23                 RA      16.5  ...  0.14  0.10  0.06 -0.04 -0.04  0.14   \n24               Bino       NaN  ... -0.04  0.06  0.04  0.00 -0.02 -0.04   \n25                 LA      24.5  ...  0.26  0.20  0.16  0.14  0.00  0.10   \n26                 RA      23.5  ...  0.12  0.02  0.08  0.02 -0.10 -0.10   \n27               Bino       NaN  ...  0.02 -0.08 -0.02 -0.04 -0.18 -0.14   \n28                NaN       NaN  ...   NaN   NaN   NaN   NaN   NaN   NaN   \n29                NaN       NaN  ...   NaN   NaN   NaN   NaN   NaN   NaN   \n30                NaN       NaN  ...  0.06  0.06  0.10  0.08  0.02  0.04   \n\n     0.5     1   1.5     2  \n1   0.34  0.48  0.54  0.80  \n2   0.44  0.50  0.74  0.78  \n3   0.30  0.54  0.64  0.80  \n4   0.20  0.30  0.54  0.66  \n5   0.20  0.34  0.58  0.68  \n6   0.06  0.26  0.54  0.58  \n7   0.36  0.72  0.82   NaN  \n8   0.76   NaN   NaN   NaN  \n9   0.22  0.72  0.80   NaN  \n10  0.30  0.42  0.46  0.60  \n11  0.08  0.20  0.22  0.42  \n12 -0.04  0.14  0.30  0.30  \n13  0.30  0.44  0.64  0.76  \n14  0.22  0.54  0.56  0.64  \n15  0.20  0.40  0.50  0.68  \n16  0.30  0.34  0.22  0.24  \n17  0.08  0.38  0.74  0.80  \n18  0.02  0.14  0.26  0.44  \n19  0.22  0.48  0.64  0.78  \n20  0.22  0.44  0.66  0.70  \n21  0.14  0.32  0.46  0.66  \n22  0.10  0.22  0.44  0.56  \n23  0.22  0.32  0.50  0.58  \n24  0.12  0.22  0.30  0.40  \n25  0.30  0.54  0.70  0.80  \n26  0.06  0.50  0.56  0.72  \n27  0.06  0.30  0.44  0.62  \n28   NaN   NaN   NaN   NaN  \n29   NaN   NaN   NaN   NaN  \n30  0.10  0.22  0.44  0.56  \n\n[30 rows x 46 columns]",
      "text/html": "<div>\n<style scoped>\n    .dataframe tbody tr th:only-of-type {\n        vertical-align: middle;\n    }\n\n    .dataframe tbody tr th {\n        vertical-align: top;\n    }\n\n    .dataframe thead th {\n        text-align: right;\n    }\n</style>\n<table border=\"1\" class=\"dataframe\">\n  <thead>\n    <tr style=\"text-align: right;\">\n      <th></th>\n      <th>Nr</th>\n      <th>Pat</th>\n      <th>ID</th>\n      <th>Kürzel</th>\n      <th>OP-Datum</th>\n      <th>Abstand OP- zum heutigen Tag (Datum in Zelle F1)</th>\n      <th>Geschlecht</th>\n      <th>Alter</th>\n      <th>R/L (FA markieren)</th>\n      <th>IOL [dpt]</th>\n      <th>...</th>\n      <th>-2.5</th>\n      <th>-2.0</th>\n      <th>-1.5</th>\n      <th>-1.0</th>\n      <th>-0.5</th>\n      <th>0.0</th>\n      <th>0.5</th>\n      <th>1</th>\n      <th>1.5</th>\n      <th>2</th>\n    </tr>\n  </thead>\n  <tbody>\n    <tr>\n      <th>1</th>\n      <td>1</td>\n      <td>NaN</td>\n      <td>6126</td>\n      <td>WR</td>\n      <td>2020-09-22 00:00:00</td>\n      <td>19 Monate, 27 Tage</td>\n      <td>w</td>\n      <td>54</td>\n      <td>L</td>\n      <td>19</td>\n      <td>...</td>\n      <td>0.20</td>\n      <td>0.16</td>\n      <td>0.02</td>\n      <td>0.02</td>\n      <td>-0.06</td>\n      <td>-0.02</td>\n      <td>0.34</td>\n      <td>0.48</td>\n      <td>0.54</td>\n      <td>0.80</td>\n    </tr>\n    <tr>\n      <th>2</th>\n      <td>73</td>\n      <td>NaN</td>\n      <td>6126</td>\n      <td>WR</td>\n      <td>2021-08-31 00:00:00</td>\n      <td>8 Monate, 18 Tage</td>\n      <td>w</td>\n      <td>54</td>\n      <td>R</td>\n      <td>20</td>\n      <td>...</td>\n      <td>0.12</td>\n      <td>0.04</td>\n      <td>-0.08</td>\n      <td>0.00</td>\n      <td>-0.10</td>\n      <td>0.02</td>\n      <td>0.44</td>\n      <td>0.50</td>\n      <td>0.74</td>\n      <td>0.78</td>\n    </tr>\n    <tr>\n      <th>3</th>\n      <td>NaN</td>\n      <td>NaN</td>\n      <td>NaN</td>\n      <td>NaN</td>\n      <td>NaN</td>\n      <td>NaN</td>\n      <td>NaN</td>\n      <td>NaN</td>\n      <td>Bino</td>\n      <td>NaN</td>\n      <td>...</td>\n      <td>0.04</td>\n      <td>-0.04</td>\n      <td>-0.06</td>\n      <td>0.00</td>\n      <td>-0.04</td>\n      <td>-0.04</td>\n      <td>0.30</td>\n      <td>0.54</td>\n      <td>0.64</td>\n      <td>0.80</td>\n    </tr>\n    <tr>\n      <th>4</th>\n      <td>24</td>\n      <td>NaN</td>\n      <td>6413</td>\n      <td>RJ</td>\n      <td>2021-03-30 00:00:00</td>\n      <td>13 Monate, 19 Tage</td>\n      <td>m</td>\n      <td>67</td>\n      <td>L</td>\n      <td>15.5</td>\n      <td>...</td>\n      <td>0.16</td>\n      <td>0.16</td>\n      <td>0.08</td>\n      <td>0.08</td>\n      <td>0.06</td>\n      <td>0.12</td>\n      <td>0.20</td>\n      <td>0.30</td>\n      <td>0.54</td>\n      <td>0.66</td>\n    </tr>\n    <tr>\n      <th>5</th>\n      <td>43</td>\n      <td>NaN</td>\n      <td>6413</td>\n      <td>RJ</td>\n      <td>2021-06-01 00:00:00</td>\n      <td>11 Monate, 18 Tage</td>\n      <td>m</td>\n      <td>67</td>\n      <td>R</td>\n      <td>18</td>\n      <td>...</td>\n      <td>0.02</td>\n      <td>0.04</td>\n      <td>0.02</td>\n      <td>0.06</td>\n      <td>-0.08</td>\n      <td>0.06</td>\n      <td>0.20</td>\n      <td>0.34</td>\n      <td>0.58</td>\n      <td>0.68</td>\n    </tr>\n    <tr>\n      <th>6</th>\n      <td>NaN</td>\n      <td>NaN</td>\n      <td>NaN</td>\n      <td>NaN</td>\n      <td>NaN</td>\n      <td>NaN</td>\n      <td>NaN</td>\n      <td>NaN</td>\n      <td>Bino</td>\n      <td>NaN</td>\n      <td>...</td>\n      <td>0.02</td>\n      <td>0.02</td>\n      <td>-0.08</td>\n      <td>-0.10</td>\n      <td>-0.10</td>\n      <td>-0.02</td>\n      <td>0.06</td>\n      <td>0.26</td>\n      <td>0.54</td>\n      <td>0.58</td>\n    </tr>\n    <tr>\n      <th>7</th>\n      <td>110</td>\n      <td>NaN</td>\n      <td>6464</td>\n      <td>AF</td>\n      <td>2021-11-16 00:00:00</td>\n      <td>6 Monate, 3 Tage</td>\n      <td>m</td>\n      <td>57</td>\n      <td>LA</td>\n      <td>26</td>\n      <td>...</td>\n      <td>0.26</td>\n      <td>0.10</td>\n      <td>0.14</td>\n      <td>0.00</td>\n      <td>-0.02</td>\n      <td>0.14</td>\n      <td>0.36</td>\n      <td>0.72</td>\n      <td>0.82</td>\n      <td>NaN</td>\n    </tr>\n    <tr>\n      <th>8</th>\n      <td>133</td>\n      <td>NaN</td>\n      <td>6464</td>\n      <td>AF</td>\n      <td>2022-01-11 00:00:00</td>\n      <td>4 Monate, 8 Tage</td>\n      <td>m</td>\n      <td>57</td>\n      <td>RA</td>\n      <td>25.5</td>\n      <td>...</td>\n      <td>0.10</td>\n      <td>0.04</td>\n      <td>-0.06</td>\n      <td>0.02</td>\n      <td>0.14</td>\n      <td>0.56</td>\n      <td>0.76</td>\n      <td>NaN</td>\n      <td>NaN</td>\n      <td>NaN</td>\n    </tr>\n    <tr>\n      <th>9</th>\n      <td>NaN</td>\n      <td>NaN</td>\n      <td>NaN</td>\n      <td>NaN</td>\n      <td>NaN</td>\n      <td>NaN</td>\n      <td>NaN</td>\n      <td>NaN</td>\n      <td>Bino</td>\n      <td>NaN</td>\n      <td>...</td>\n      <td>0.02</td>\n      <td>-0.06</td>\n      <td>-0.10</td>\n      <td>-0.02</td>\n      <td>0.02</td>\n      <td>0.12</td>\n      <td>0.22</td>\n      <td>0.72</td>\n      <td>0.80</td>\n      <td>NaN</td>\n    </tr>\n    <tr>\n      <th>10</th>\n      <td>25</td>\n      <td>NaN</td>\n      <td>6479</td>\n      <td>HW</td>\n      <td>2021-04-13 00:00:00</td>\n      <td>13 Monate, 6 Tage</td>\n      <td>m</td>\n      <td>67</td>\n      <td>R</td>\n      <td>17</td>\n      <td>...</td>\n      <td>0.02</td>\n      <td>0.02</td>\n      <td>-0.02</td>\n      <td>-0.10</td>\n      <td>-0.08</td>\n      <td>0.20</td>\n      <td>0.30</td>\n      <td>0.42</td>\n      <td>0.46</td>\n      <td>0.60</td>\n    </tr>\n    <tr>\n      <th>11</th>\n      <td>67</td>\n      <td>NaN</td>\n      <td>6479</td>\n      <td>HW</td>\n      <td>2021-08-17 00:00:00</td>\n      <td>9 Monate, 2 Tage</td>\n      <td>m</td>\n      <td>67</td>\n      <td>L</td>\n      <td>16</td>\n      <td>...</td>\n      <td>0.20</td>\n      <td>0.30</td>\n      <td>0.14</td>\n      <td>0.04</td>\n      <td>-0.04</td>\n      <td>0.02</td>\n      <td>0.08</td>\n      <td>0.20</td>\n      <td>0.22</td>\n      <td>0.42</td>\n    </tr>\n    <tr>\n      <th>12</th>\n      <td>NaN</td>\n      <td>NaN</td>\n      <td>NaN</td>\n      <td>NaN</td>\n      <td>NaN</td>\n      <td>NaN</td>\n      <td>NaN</td>\n      <td>NaN</td>\n      <td>Bino</td>\n      <td>NaN</td>\n      <td>...</td>\n      <td>0.12</td>\n      <td>0.00</td>\n      <td>-0.06</td>\n      <td>-0.14</td>\n      <td>-0.04</td>\n      <td>-0.10</td>\n      <td>-0.04</td>\n      <td>0.14</td>\n      <td>0.30</td>\n      <td>0.30</td>\n    </tr>\n    <tr>\n      <th>13</th>\n      <td>103</td>\n      <td>NaN</td>\n      <td>6480</td>\n      <td>GC</td>\n      <td>2021-11-02 00:00:00</td>\n      <td>6 Monate, 17 Tage</td>\n      <td>w</td>\n      <td>56</td>\n      <td>RA</td>\n      <td>18.5</td>\n      <td>...</td>\n      <td>0.12</td>\n      <td>0.06</td>\n      <td>0.02</td>\n      <td>-0.04</td>\n      <td>-0.06</td>\n      <td>0.04</td>\n      <td>0.30</td>\n      <td>0.44</td>\n      <td>0.64</td>\n      <td>0.76</td>\n    </tr>\n    <tr>\n      <th>14</th>\n      <td>135</td>\n      <td>NaN</td>\n      <td>6480</td>\n      <td>GC</td>\n      <td>2022-01-18 00:00:00</td>\n      <td>4 Monate, 1 Tage</td>\n      <td>w</td>\n      <td>57</td>\n      <td>LA</td>\n      <td>18</td>\n      <td>...</td>\n      <td>0.16</td>\n      <td>0.10</td>\n      <td>0.04</td>\n      <td>0.04</td>\n      <td>-0.02</td>\n      <td>-0.08</td>\n      <td>0.22</td>\n      <td>0.54</td>\n      <td>0.56</td>\n      <td>0.64</td>\n    </tr>\n    <tr>\n      <th>15</th>\n      <td>NaN</td>\n      <td>NaN</td>\n      <td>NaN</td>\n      <td>NaN</td>\n      <td>NaN</td>\n      <td>NaN</td>\n      <td>NaN</td>\n      <td>NaN</td>\n      <td>Bino</td>\n      <td>NaN</td>\n      <td>...</td>\n      <td>0.04</td>\n      <td>0.04</td>\n      <td>0.04</td>\n      <td>-0.08</td>\n      <td>-0.10</td>\n      <td>-0.08</td>\n      <td>0.20</td>\n      <td>0.40</td>\n      <td>0.50</td>\n      <td>0.68</td>\n    </tr>\n    <tr>\n      <th>16</th>\n      <td>66</td>\n      <td>NaN</td>\n      <td>6662</td>\n      <td>DC</td>\n      <td>2021-08-10 00:00:00</td>\n      <td>9 Monate, 9 Tage</td>\n      <td>w</td>\n      <td>66</td>\n      <td>R</td>\n      <td>20.5</td>\n      <td>...</td>\n      <td>0.06</td>\n      <td>0.14</td>\n      <td>0.00</td>\n      <td>0.02</td>\n      <td>0.00</td>\n      <td>0.08</td>\n      <td>0.30</td>\n      <td>0.34</td>\n      <td>0.22</td>\n      <td>0.24</td>\n    </tr>\n    <tr>\n      <th>17</th>\n      <td>84</td>\n      <td>NaN</td>\n      <td>6662</td>\n      <td>DC</td>\n      <td>2021-09-21 00:00:00</td>\n      <td>7 Monate, 28 Tage</td>\n      <td>w</td>\n      <td>66</td>\n      <td>L</td>\n      <td>18.5</td>\n      <td>...</td>\n      <td>0.54</td>\n      <td>0.14</td>\n      <td>0.20</td>\n      <td>0.14</td>\n      <td>0.04</td>\n      <td>0.00</td>\n      <td>0.08</td>\n      <td>0.38</td>\n      <td>0.74</td>\n      <td>0.80</td>\n    </tr>\n    <tr>\n      <th>18</th>\n      <td>NaN</td>\n      <td>NaN</td>\n      <td>NaN</td>\n      <td>NaN</td>\n      <td>NaN</td>\n      <td>NaN</td>\n      <td>NaN</td>\n      <td>NaN</td>\n      <td>Bino</td>\n      <td>NaN</td>\n      <td>...</td>\n      <td>0.16</td>\n      <td>0.06</td>\n      <td>0.06</td>\n      <td>-0.04</td>\n      <td>-0.04</td>\n      <td>0.04</td>\n      <td>0.02</td>\n      <td>0.14</td>\n      <td>0.26</td>\n      <td>0.44</td>\n    </tr>\n    <tr>\n      <th>19</th>\n      <td>81</td>\n      <td>NaN</td>\n      <td>6705</td>\n      <td>GC</td>\n      <td>2021-09-14 00:00:00</td>\n      <td>8 Monate, 5 Tage</td>\n      <td>w</td>\n      <td>57</td>\n      <td>L</td>\n      <td>25.5</td>\n      <td>...</td>\n      <td>0.08</td>\n      <td>0.06</td>\n      <td>0.04</td>\n      <td>-0.06</td>\n      <td>-0.08</td>\n      <td>-0.06</td>\n      <td>0.22</td>\n      <td>0.48</td>\n      <td>0.64</td>\n      <td>0.78</td>\n    </tr>\n    <tr>\n      <th>20</th>\n      <td>96</td>\n      <td>NaN</td>\n      <td>6705</td>\n      <td>GC</td>\n      <td>2021-10-19 00:00:00</td>\n      <td>7 Monate, 0 Tage</td>\n      <td>w</td>\n      <td>57</td>\n      <td>R</td>\n      <td>25.5</td>\n      <td>...</td>\n      <td>0.10</td>\n      <td>0.06</td>\n      <td>0.04</td>\n      <td>0.02</td>\n      <td>-0.10</td>\n      <td>-0.10</td>\n      <td>0.22</td>\n      <td>0.44</td>\n      <td>0.66</td>\n      <td>0.70</td>\n    </tr>\n    <tr>\n      <th>21</th>\n      <td>NaN</td>\n      <td>NaN</td>\n      <td>NaN</td>\n      <td>NaN</td>\n      <td>NaN</td>\n      <td>NaN</td>\n      <td>NaN</td>\n      <td>NaN</td>\n      <td>Bino</td>\n      <td>NaN</td>\n      <td>...</td>\n      <td>0.04</td>\n      <td>0.00</td>\n      <td>-0.12</td>\n      <td>-0.12</td>\n      <td>-0.18</td>\n      <td>-0.12</td>\n      <td>0.14</td>\n      <td>0.32</td>\n      <td>0.46</td>\n      <td>0.66</td>\n    </tr>\n    <tr>\n      <th>22</th>\n      <td>105</td>\n      <td>NaN</td>\n      <td>6757</td>\n      <td>SW</td>\n      <td>2021-11-09 00:00:00</td>\n      <td>6 Monate, 10 Tage</td>\n      <td>m</td>\n      <td>51</td>\n      <td>LA</td>\n      <td>17.5</td>\n      <td>...</td>\n      <td>0.06</td>\n      <td>0.06</td>\n      <td>0.10</td>\n      <td>0.08</td>\n      <td>0.02</td>\n      <td>0.04</td>\n      <td>0.10</td>\n      <td>0.22</td>\n      <td>0.44</td>\n      <td>0.56</td>\n    </tr>\n    <tr>\n      <th>23</th>\n      <td>125</td>\n      <td>NaN</td>\n      <td>6757</td>\n      <td>SW</td>\n      <td>2021-12-21 00:00:00</td>\n      <td>4 Monate, 28 Tage</td>\n      <td>m</td>\n      <td>51</td>\n      <td>RA</td>\n      <td>16.5</td>\n      <td>...</td>\n      <td>0.14</td>\n      <td>0.10</td>\n      <td>0.06</td>\n      <td>-0.04</td>\n      <td>-0.04</td>\n      <td>0.14</td>\n      <td>0.22</td>\n      <td>0.32</td>\n      <td>0.50</td>\n      <td>0.58</td>\n    </tr>\n    <tr>\n      <th>24</th>\n      <td>NaN</td>\n      <td>NaN</td>\n      <td>NaN</td>\n      <td>NaN</td>\n      <td>NaN</td>\n      <td>NaN</td>\n      <td>NaN</td>\n      <td>NaN</td>\n      <td>Bino</td>\n      <td>NaN</td>\n      <td>...</td>\n      <td>-0.04</td>\n      <td>0.06</td>\n      <td>0.04</td>\n      <td>0.00</td>\n      <td>-0.02</td>\n      <td>-0.04</td>\n      <td>0.12</td>\n      <td>0.22</td>\n      <td>0.30</td>\n      <td>0.40</td>\n    </tr>\n    <tr>\n      <th>25</th>\n      <td>139</td>\n      <td>NaN</td>\n      <td>6801</td>\n      <td>WM</td>\n      <td>2022-02-01 00:00:00</td>\n      <td>3 Monate, 18 Tage</td>\n      <td>w</td>\n      <td>49</td>\n      <td>LA</td>\n      <td>24.5</td>\n      <td>...</td>\n      <td>0.26</td>\n      <td>0.20</td>\n      <td>0.16</td>\n      <td>0.14</td>\n      <td>0.00</td>\n      <td>0.10</td>\n      <td>0.30</td>\n      <td>0.54</td>\n      <td>0.70</td>\n      <td>0.80</td>\n    </tr>\n    <tr>\n      <th>26</th>\n      <td>156</td>\n      <td>NaN</td>\n      <td>6801</td>\n      <td>WM</td>\n      <td>2022-03-22 00:00:00</td>\n      <td>1 Monate, 27 Tage</td>\n      <td>w</td>\n      <td>49</td>\n      <td>RA</td>\n      <td>23.5</td>\n      <td>...</td>\n      <td>0.12</td>\n      <td>0.02</td>\n      <td>0.08</td>\n      <td>0.02</td>\n      <td>-0.10</td>\n      <td>-0.10</td>\n      <td>0.06</td>\n      <td>0.50</td>\n      <td>0.56</td>\n      <td>0.72</td>\n    </tr>\n    <tr>\n      <th>27</th>\n      <td>NaN</td>\n      <td>NaN</td>\n      <td>NaN</td>\n      <td>NaN</td>\n      <td>NaN</td>\n      <td>NaN</td>\n      <td>NaN</td>\n      <td>NaN</td>\n      <td>Bino</td>\n      <td>NaN</td>\n      <td>...</td>\n      <td>0.02</td>\n      <td>-0.08</td>\n      <td>-0.02</td>\n      <td>-0.04</td>\n      <td>-0.18</td>\n      <td>-0.14</td>\n      <td>0.06</td>\n      <td>0.30</td>\n      <td>0.44</td>\n      <td>0.62</td>\n    </tr>\n    <tr>\n      <th>28</th>\n      <td>NaN</td>\n      <td>NaN</td>\n      <td>NaN</td>\n      <td>NaN</td>\n      <td>NaN</td>\n      <td>NaN</td>\n      <td>NaN</td>\n      <td>NaN</td>\n      <td>NaN</td>\n      <td>NaN</td>\n      <td>...</td>\n      <td>NaN</td>\n      <td>NaN</td>\n      <td>NaN</td>\n      <td>NaN</td>\n      <td>NaN</td>\n      <td>NaN</td>\n      <td>NaN</td>\n      <td>NaN</td>\n      <td>NaN</td>\n      <td>NaN</td>\n    </tr>\n    <tr>\n      <th>29</th>\n      <td>NaN</td>\n      <td>NaN</td>\n      <td>NaN</td>\n      <td>NaN</td>\n      <td>NaN</td>\n      <td>NaN</td>\n      <td>NaN</td>\n      <td>NaN</td>\n      <td>NaN</td>\n      <td>NaN</td>\n      <td>...</td>\n      <td>NaN</td>\n      <td>NaN</td>\n      <td>NaN</td>\n      <td>NaN</td>\n      <td>NaN</td>\n      <td>NaN</td>\n      <td>NaN</td>\n      <td>NaN</td>\n      <td>NaN</td>\n      <td>NaN</td>\n    </tr>\n    <tr>\n      <th>30</th>\n      <td>NaN</td>\n      <td>NaN</td>\n      <td>NaN</td>\n      <td>NaN</td>\n      <td>NaN</td>\n      <td>NaN</td>\n      <td>NaN</td>\n      <td>NaN</td>\n      <td>NaN</td>\n      <td>NaN</td>\n      <td>...</td>\n      <td>0.06</td>\n      <td>0.06</td>\n      <td>0.10</td>\n      <td>0.08</td>\n      <td>0.02</td>\n      <td>0.04</td>\n      <td>0.10</td>\n      <td>0.22</td>\n      <td>0.44</td>\n      <td>0.56</td>\n    </tr>\n  </tbody>\n</table>\n<p>30 rows × 46 columns</p>\n</div>"
     },
     "execution_count": 241,
     "metadata": {},
     "output_type": "execute_result"
    }
   ],
   "source": [
    "path = '../data/data.xlsx'\n",
    "tab_name = ' Nils'\n",
    "separator = ';'  # in case comma for smth else is used already and messes with splitting\n",
    "\n",
    "df = pd.read_excel(path,sheet_name=tab_name)\n",
    "df.columns = df.iloc[[0], :].to_csv(header=False, index=False, sep=separator).split(separator)  # rename columns from first row\n",
    "df = df.iloc[1:,:-30]  # drop first row, since its col names only\n",
    "for colname in list(df.columns):\n",
    "    df[colname] =  df[colname].replace('-',np.nan)\n",
    "\n",
    "df"
   ],
   "metadata": {
    "collapsed": false,
    "pycharm": {
     "name": "#%%\n"
    }
   }
  },
  {
   "cell_type": "code",
   "execution_count": 242,
   "outputs": [
    {
     "data": {
      "text/plain": "[6126, 6413, 6464, 6479, 6480, 6662, 6705, 6757, 6801]"
     },
     "execution_count": 242,
     "metadata": {},
     "output_type": "execute_result"
    }
   ],
   "source": [
    "unique_ids = sorted(list(set(list(df['ID'])))[1:])\n",
    "unique_ids"
   ],
   "metadata": {
    "collapsed": false,
    "pycharm": {
     "name": "#%%\n"
    }
   }
  },
  {
   "cell_type": "code",
   "execution_count": 244,
   "outputs": [
    {
     "data": {
      "text/plain": "(58.22222222222222, 6.476929618573187)"
     },
     "execution_count": 244,
     "metadata": {},
     "output_type": "execute_result"
    }
   ],
   "source": [
    "def get_mean_std_from_col_and_side(colname, side, df=df):\n",
    "    _df = pd.DataFrame()\n",
    "    if side in ['l', 'L', 'la', 'La', 'LA', 'left', 'links']:\n",
    "        _df = df[(df['R/L (FA markieren)'] == 'L') | (df['R/L (FA markieren)'] == 'LA')]\n",
    "    elif side in ['b', 'B', 'ba', 'Ba', 'BA', 'both', 'bino', 'Bino', 'BINO']:\n",
    "        _df = df[df['R/L (FA markieren)'] == 'Bino']\n",
    "    else:\n",
    "        _df = df[(df['R/L (FA markieren)'] == 'R') | (df['R/L (FA markieren)'] == 'RA')]\n",
    "\n",
    "    col = np.array(_df[colname], dtype=np.float64)\n",
    "    mean = np.mean(col)\n",
    "    std = np.std(col)\n",
    "\n",
    "    return mean, std\n",
    "\n",
    "agemean, agestd = get_mean_std_from_col_and_side('Alter','R')\n",
    "agemean, agestd"
   ],
   "metadata": {
    "collapsed": false,
    "pycharm": {
     "name": "#%%\n"
    }
   }
  },
  {
   "cell_type": "code",
   "execution_count": 245,
   "outputs": [
    {
     "name": "stdout",
     "output_type": "stream",
     "text": [
      "Side: L\n",
      "--------------\n",
      "Visus: -5\n",
      "Mean: nan | Std: nan\n",
      "Visus: -4.5\n",
      "Mean: nan | Std: nan\n",
      "Visus: -4\n",
      "Mean: nan | Std: nan\n",
      "Visus: -3.5\n",
      "Mean: 0.5666666666666667 | Std: 0.187142251301576\n",
      "Visus: -3.0\n",
      "Mean: 0.3955555555555555 | Std: 0.12175668917157978\n",
      "Visus: -2.5\n",
      "Mean: 0.21333333333333335 | Std: 0.132664991614216\n",
      "Visus: -2.0\n",
      "Mean: 0.14222222222222222 | Std: 0.07145748973694901\n",
      "Visus: -1.5\n",
      "Mean: 0.10222222222222223 | Std: 0.05845753972429291\n",
      "Visus: -1.0\n",
      "Mean: 0.05333333333333334 | Std: 0.06110100926607787\n",
      "Visus: -0.5\n",
      "Mean: -0.01111111111111111 | Std: 0.043319085976928726\n",
      "Visus: 0.0\n",
      "Mean: 0.02888888888888889 | Std: 0.07370277311900889\n",
      "Visus: 0.5\n",
      "Mean: 0.21111111111111114 | Std: 0.10202880251776886\n",
      "Visus: 1\n",
      "Mean: 0.42888888888888893 | Std: 0.15975289560543493\n",
      "Visus: 1.5\n",
      "Mean: 0.5777777777777778 | Std: 0.16798001056857118\n",
      "Visus: 2\n",
      "Mean: nan | Std: nan\n",
      "--------------\n",
      "Side: R\n",
      "--------------\n",
      "Visus: -5\n",
      "Mean: nan | Std: nan\n",
      "Visus: -4.5\n",
      "Mean: 0.6477777777777778 | Std: 0.13966450099973926\n",
      "Visus: -4\n",
      "Mean: 0.6200000000000001 | Std: 0.14696938456699069\n",
      "Visus: -3.5\n",
      "Mean: 0.4355555555555556 | Std: 0.10188349676753466\n",
      "Visus: -3.0\n",
      "Mean: 0.30444444444444446 | Std: 0.13292530158878382\n",
      "Visus: -2.5\n",
      "Mean: 0.08888888888888889 | Std: 0.042280661312089886\n",
      "Visus: -2.0\n",
      "Mean: 0.05777777777777778 | Std: 0.037051848890073485\n",
      "Visus: -1.5\n",
      "Mean: 0.006666666666666666 | Std: 0.04988876515698589\n",
      "Visus: -1.0\n",
      "Mean: -0.004444444444444445 | Std: 0.04499657051403686\n",
      "Visus: -0.5\n",
      "Mean: -0.04666666666666667 | Std: 0.07302967433402216\n",
      "Visus: 0.0\n",
      "Mean: 0.1 | Std: 0.18714225130157605\n",
      "Visus: 0.5\n",
      "Mean: 0.3111111111111111 | Std: 0.185738432835261\n",
      "Visus: 1\n",
      "Mean: nan | Std: nan\n",
      "Visus: 1.5\n",
      "Mean: nan | Std: nan\n",
      "Visus: 2\n",
      "Mean: nan | Std: nan\n",
      "--------------\n",
      "Side: Bino\n",
      "--------------\n",
      "Visus: -5\n",
      "Mean: nan | Std: nan\n",
      "Visus: -4.5\n",
      "Mean: 0.5777777777777778 | Std: 0.1304503121905704\n",
      "Visus: -4\n",
      "Mean: 0.5244444444444444 | Std: 0.0955813918560292\n",
      "Visus: -3.5\n",
      "Mean: 0.3488888888888889 | Std: 0.10918327552478442\n",
      "Visus: -3.0\n",
      "Mean: 0.18444444444444444 | Std: 0.08261169020196046\n",
      "Visus: -2.5\n",
      "Mean: 0.04666666666666667 | Std: 0.0557773351022717\n",
      "Visus: -2.0\n",
      "Mean: 0.0 | Std: 0.04807401700618652\n",
      "Visus: -1.5\n",
      "Mean: -0.03333333333333334 | Std: 0.06253887679764572\n",
      "Visus: -1.0\n",
      "Mean: -0.060000000000000005 | Std: 0.04898979485566357\n",
      "Visus: -0.5\n",
      "Mean: -0.07555555555555554 | Std: 0.06584681062235136\n",
      "Visus: 0.0\n",
      "Mean: -0.042222222222222223 | Std: 0.07742778395637487\n",
      "Visus: 0.5\n",
      "Mean: 0.12000000000000001 | Std: 0.10110500592068734\n",
      "Visus: 1\n",
      "Mean: 0.3377777777777778 | Std: 0.17973918003458839\n",
      "Visus: 1.5\n",
      "Mean: 0.47111111111111115 | Std: 0.16549215788365218\n",
      "Visus: 2\n",
      "Mean: nan | Std: nan\n",
      "--------------\n"
     ]
    }
   ],
   "source": [
    "for colname in list(df.iloc[:,31:].columns):\n",
    "    df[colname] =  df[colname].replace('-',pd.NA)\n",
    "\n",
    "side_meanstd_dict = {'L': [], 'R':[], 'Bino': []}\n",
    "\n",
    "for side in ['L', 'R', 'Bino']:\n",
    "    print(f'Side: {side}\\n--------------')\n",
    "    for visus in list(df.iloc[:,31:].columns):\n",
    "        mean, std = get_mean_std_from_col_and_side(visus,side)\n",
    "        side_meanstd_dict[side].append((mean,std))\n",
    "        print(f'Visus: {visus}\\nMean: {mean} | Std: {std}')\n",
    "    print('--------------')"
   ],
   "metadata": {
    "collapsed": false,
    "pycharm": {
     "name": "#%%\n"
    }
   }
  },
  {
   "cell_type": "code",
   "execution_count": 252,
   "outputs": [
    {
     "data": {
      "text/plain": "array([        nan,  0.57777778,  0.52444444,  0.34888889,  0.18444444,\n        0.04666667,  0.        , -0.03333333, -0.06      , -0.07555556,\n       -0.04222222,  0.12      ,  0.33777778,  0.47111111,         nan])"
     },
     "execution_count": 252,
     "metadata": {},
     "output_type": "execute_result"
    }
   ],
   "source": [
    "side = 'Bino'\n",
    "\n",
    "y_mean, y_std = zip(* (side_meanstd_dict[side]))\n",
    "x = np.linspace(-5.0,2.0,15, endpoint=True)\n",
    "y_mean = np.array(y_mean)\n",
    "y_std = np.array(y_std)\n",
    "y_mean"
   ],
   "metadata": {
    "collapsed": false,
    "pycharm": {
     "name": "#%%\n"
    }
   }
  },
  {
   "cell_type": "code",
   "execution_count": null,
   "outputs": [],
   "source": [
    "plt.plot(x,y_mean,label='Mean')\n",
    "plt.axis()\n",
    "plt.plot(x,y_mean-y_std,label='Std',color='g')\n",
    "plt.plot(x,y_mean+y_std,color='g')\n",
    "plt.ylim([0.8,-0.2])\n",
    "plt.legend()\n",
    "plt.savefig(f'/Users/nilsseitz/Downloads/fig_{side}.png')\n",
    "plt.show()"
   ],
   "metadata": {
    "collapsed": false,
    "pycharm": {
     "name": "#%%\n"
    }
   }
  },
  {
   "cell_type": "code",
   "execution_count": 289,
   "outputs": [
    {
     "data": {
      "text/plain": "<Figure size 432x288 with 1 Axes>",
      "image/png": "[encoded data removed]"
     },
     "metadata": {
      "needs_background": "light"
     },
     "output_type": "display_data"
    }
   ],
   "source": [
    "plt.errorbar(x, y_mean, y_std, capsize = 3)\n",
    "plt.ylim([0.8,-0.3])\n",
    "plt.savefig(f'/Users/nilsseitz/Downloads/fig_std_{side}.png')\n",
    "plt.show()"
   ],
   "metadata": {
    "collapsed": false,
    "pycharm": {
     "name": "#%%\n"
    }
   }
  },
  {
   "cell_type": "code",
   "execution_count": 272,
   "outputs": [
    {
     "data": {
      "text/plain": "      0         1         2\n0  -5.0       NaN       NaN\n1  -4.5  0.577778  0.130450\n2  -4.0  0.524444  0.095581\n3  -3.5  0.348889  0.109183\n4  -3.0  0.184444  0.082612\n5  -2.5  0.046667  0.055777\n6  -2.0  0.000000  0.048074\n7  -1.5 -0.033333  0.062539\n8  -1.0 -0.060000  0.048990\n9  -0.5 -0.075556  0.065847\n10  0.0 -0.042222  0.077428\n11  0.5  0.120000  0.101105\n12  1.0  0.337778  0.179739\n13  1.5  0.471111  0.165492\n14  2.0       NaN       NaN",
      "text/html": "<div>\n<style scoped>\n    .dataframe tbody tr th:only-of-type {\n        vertical-align: middle;\n    }\n\n    .dataframe tbody tr th {\n        vertical-align: top;\n    }\n\n    .dataframe thead th {\n        text-align: right;\n    }\n</style>\n<table border=\"1\" class=\"dataframe\">\n  <thead>\n    <tr style=\"text-align: right;\">\n      <th></th>\n      <th>0</th>\n      <th>1</th>\n      <th>2</th>\n    </tr>\n  </thead>\n  <tbody>\n    <tr>\n      <th>0</th>\n      <td>-5.0</td>\n      <td>NaN</td>\n      <td>NaN</td>\n    </tr>\n    <tr>\n      <th>1</th>\n      <td>-4.5</td>\n      <td>0.577778</td>\n      <td>0.130450</td>\n    </tr>\n    <tr>\n      <th>2</th>\n      <td>-4.0</td>\n      <td>0.524444</td>\n      <td>0.095581</td>\n    </tr>\n    <tr>\n      <th>3</th>\n      <td>-3.5</td>\n      <td>0.348889</td>\n      <td>0.109183</td>\n    </tr>\n    <tr>\n      <th>4</th>\n      <td>-3.0</td>\n      <td>0.184444</td>\n      <td>0.082612</td>\n    </tr>\n    <tr>\n      <th>5</th>\n      <td>-2.5</td>\n      <td>0.046667</td>\n      <td>0.055777</td>\n    </tr>\n    <tr>\n      <th>6</th>\n      <td>-2.0</td>\n      <td>0.000000</td>\n      <td>0.048074</td>\n    </tr>\n    <tr>\n      <th>7</th>\n      <td>-1.5</td>\n      <td>-0.033333</td>\n      <td>0.062539</td>\n    </tr>\n    <tr>\n      <th>8</th>\n      <td>-1.0</td>\n      <td>-0.060000</td>\n      <td>0.048990</td>\n    </tr>\n    <tr>\n      <th>9</th>\n      <td>-0.5</td>\n      <td>-0.075556</td>\n      <td>0.065847</td>\n    </tr>\n    <tr>\n      <th>10</th>\n      <td>0.0</td>\n      <td>-0.042222</td>\n      <td>0.077428</td>\n    </tr>\n    <tr>\n      <th>11</th>\n      <td>0.5</td>\n      <td>0.120000</td>\n      <td>0.101105</td>\n    </tr>\n    <tr>\n      <th>12</th>\n      <td>1.0</td>\n      <td>0.337778</td>\n      <td>0.179739</td>\n    </tr>\n    <tr>\n      <th>13</th>\n      <td>1.5</td>\n      <td>0.471111</td>\n      <td>0.165492</td>\n    </tr>\n    <tr>\n      <th>14</th>\n      <td>2.0</td>\n      <td>NaN</td>\n      <td>NaN</td>\n    </tr>\n  </tbody>\n</table>\n</div>"
     },
     "execution_count": 272,
     "metadata": {},
     "output_type": "execute_result"
    }
   ],
   "source": [
    "dataframe = pd.DataFrame()\n",
    "y_mean, y_std = zip(*(side_meanstd_dict[side]))\n",
    "x = np.linspace(-5.0,2.0,15, endpoint=True)\n",
    "y_mean = np.array(y_mean)\n",
    "y_std = np.array(y_std)\n",
    "for data in zip(x,y_mean,y_std):\n",
    "    dataframe = dataframe.append(pd.Series(data), ignore_index=True)\n",
    "\n",
    "dataframe.to_csv(f'/Users/nilsseitz/Downloads/tab_{side}.csv')\n",
    "dataframe"
   ],
   "metadata": {
    "collapsed": false,
    "pycharm": {
     "name": "#%%\n"
    }
   }
  },
  {
   "cell_type": "code",
   "execution_count": null,
   "outputs": [],
   "source": [],
   "metadata": {
    "collapsed": false,
    "pycharm": {
     "name": "#%%\n"
    }
   }
  }
 ],
 "metadata": {
  "kernelspec": {
   "display_name": "Python 3 (ipykernel)",
   "language": "python",
   "name": "python3"
  },
  "language_info": {
   "codemirror_mode": {
    "name": "ipython",
    "version": 3
   },
   "file_extension": ".py",
   "mimetype": "text/x-python",
   "name": "python",
   "nbconvert_exporter": "python",
   "pygments_lexer": "ipython3",
   "version": "3.9.7"
  }
 },
 "nbformat": 4,
 "nbformat_minor": 4
}