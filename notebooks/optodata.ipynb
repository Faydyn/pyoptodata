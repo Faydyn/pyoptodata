{
 "cells": [
  {
   "cell_type": "code",
   "execution_count": null,
   "outputs": [],
   "source": [
    "import os\n",
    "\n",
    "import numpy as np\n",
    "import pandas as pd"
   ],
   "metadata": {
    "collapsed": false,
    "pycharm": {
     "name": "#%%\n"
    }
   }
  },
  {
   "cell_type": "code",
   "execution_count": 1,
   "outputs": [
    {
     "ename": "NameError",
     "evalue": "name 'pd' is not defined",
     "output_type": "error",
     "traceback": [
      "\u001B[0;31m---------------------------------------------------------------------------\u001B[0m",
      "\u001B[0;31mNameError\u001B[0m                                 Traceback (most recent call last)",
      "\u001B[0;32m/var/folders/5r/r915__8156b377bv3jw7nbnr0000gn/T/ipykernel_43455/1856497520.py\u001B[0m in \u001B[0;36m<module>\u001B[0;34m\u001B[0m\n\u001B[1;32m      3\u001B[0m \u001B[0mseparator\u001B[0m \u001B[0;34m=\u001B[0m \u001B[0;34m';'\u001B[0m  \u001B[0;31m# in case comma for smth else is used already and messes with splitting\u001B[0m\u001B[0;34m\u001B[0m\u001B[0;34m\u001B[0m\u001B[0m\n\u001B[1;32m      4\u001B[0m \u001B[0;34m\u001B[0m\u001B[0m\n\u001B[0;32m----> 5\u001B[0;31m \u001B[0mdf\u001B[0m \u001B[0;34m=\u001B[0m \u001B[0mpd\u001B[0m\u001B[0;34m.\u001B[0m\u001B[0mread_excel\u001B[0m\u001B[0;34m(\u001B[0m\u001B[0mpath\u001B[0m\u001B[0;34m,\u001B[0m\u001B[0msheet_name\u001B[0m\u001B[0;34m=\u001B[0m\u001B[0mtab_name\u001B[0m\u001B[0;34m)\u001B[0m\u001B[0;34m\u001B[0m\u001B[0;34m\u001B[0m\u001B[0m\n\u001B[0m\u001B[1;32m      6\u001B[0m \u001B[0mdf\u001B[0m\u001B[0;34m.\u001B[0m\u001B[0mcolumns\u001B[0m \u001B[0;34m=\u001B[0m \u001B[0mdf\u001B[0m\u001B[0;34m.\u001B[0m\u001B[0miloc\u001B[0m\u001B[0;34m[\u001B[0m\u001B[0;34m[\u001B[0m\u001B[0;36m0\u001B[0m\u001B[0;34m]\u001B[0m\u001B[0;34m,\u001B[0m \u001B[0;34m:\u001B[0m\u001B[0;34m]\u001B[0m\u001B[0;34m.\u001B[0m\u001B[0mto_csv\u001B[0m\u001B[0;34m(\u001B[0m\u001B[0mheader\u001B[0m\u001B[0;34m=\u001B[0m\u001B[0;32mFalse\u001B[0m\u001B[0;34m,\u001B[0m \u001B[0mindex\u001B[0m\u001B[0;34m=\u001B[0m\u001B[0;32mFalse\u001B[0m\u001B[0;34m,\u001B[0m \u001B[0msep\u001B[0m\u001B[0;34m=\u001B[0m\u001B[0mseparator\u001B[0m\u001B[0;34m)\u001B[0m\u001B[0;34m.\u001B[0m\u001B[0msplit\u001B[0m\u001B[0;34m(\u001B[0m\u001B[0mseparator\u001B[0m\u001B[0;34m)\u001B[0m  \u001B[0;31m# rename columns from first row\u001B[0m\u001B[0;34m\u001B[0m\u001B[0;34m\u001B[0m\u001B[0m\n\u001B[1;32m      7\u001B[0m \u001B[0mdf\u001B[0m \u001B[0;34m=\u001B[0m \u001B[0mdf\u001B[0m\u001B[0;34m.\u001B[0m\u001B[0miloc\u001B[0m\u001B[0;34m[\u001B[0m\u001B[0;36m1\u001B[0m\u001B[0;34m:\u001B[0m\u001B[0;34m,\u001B[0m\u001B[0;34m:\u001B[0m\u001B[0;34m-\u001B[0m\u001B[0;36m30\u001B[0m\u001B[0;34m]\u001B[0m  \u001B[0;31m# drop first row, since its col names only\u001B[0m\u001B[0;34m\u001B[0m\u001B[0;34m\u001B[0m\u001B[0m\n",
      "\u001B[0;31mNameError\u001B[0m: name 'pd' is not defined"
     ]
    }
   ],
   "source": [
    "path = '../data/data.xlsx'\n",
    "tab_name = ' Nils'\n",
    "separator = ';'  # in case comma for smth else is used already and messes with splitting\n",
    "\n",
    "df = pd.read_excel(path,sheet_name=tab_name)\n",
    "df.columns = df.iloc[[0], :].to_csv(header=False, index=False, sep=separator).split(separator)  # rename columns from first row\n",
    "df = df.iloc[1:,:-30]  # drop first row, since its col names only\n",
    "df"
   ],
   "metadata": {
    "collapsed": false,
    "pycharm": {
     "name": "#%%\n"
    }
   }
  },
  {
   "cell_type": "code",
   "execution_count": 2,
   "outputs": [
    {
     "ename": "NameError",
     "evalue": "name 'df' is not defined",
     "output_type": "error",
     "traceback": [
      "\u001B[0;31m---------------------------------------------------------------------------\u001B[0m",
      "\u001B[0;31mNameError\u001B[0m                                 Traceback (most recent call last)",
      "\u001B[0;32m/var/folders/5r/r915__8156b377bv3jw7nbnr0000gn/T/ipykernel_43455/1649155503.py\u001B[0m in \u001B[0;36m<module>\u001B[0;34m\u001B[0m\n\u001B[0;32m----> 1\u001B[0;31m \u001B[0munique_ids\u001B[0m \u001B[0;34m=\u001B[0m \u001B[0msorted\u001B[0m\u001B[0;34m(\u001B[0m\u001B[0mlist\u001B[0m\u001B[0;34m(\u001B[0m\u001B[0mset\u001B[0m\u001B[0;34m(\u001B[0m\u001B[0mlist\u001B[0m\u001B[0;34m(\u001B[0m\u001B[0mdf\u001B[0m\u001B[0;34m[\u001B[0m\u001B[0;34m'ID'\u001B[0m\u001B[0;34m]\u001B[0m\u001B[0;34m)\u001B[0m\u001B[0;34m)\u001B[0m\u001B[0;34m)\u001B[0m\u001B[0;34m[\u001B[0m\u001B[0;36m1\u001B[0m\u001B[0;34m:\u001B[0m\u001B[0;34m]\u001B[0m\u001B[0;34m)\u001B[0m\u001B[0;34m\u001B[0m\u001B[0;34m\u001B[0m\u001B[0m\n\u001B[0m\u001B[1;32m      2\u001B[0m \u001B[0munique_ids\u001B[0m\u001B[0;34m\u001B[0m\u001B[0;34m\u001B[0m\u001B[0m\n",
      "\u001B[0;31mNameError\u001B[0m: name 'df' is not defined"
     ]
    }
   ],
   "source": [
    "unique_ids = sorted(list(set(list(df['ID'])))[1:])\n",
    "unique_ids"
   ],
   "metadata": {
    "collapsed": false,
    "pycharm": {
     "name": "#%%\n"
    }
   }
  },
  {
   "cell_type": "code",
   "execution_count": 3,
   "outputs": [
    {
     "ename": "NameError",
     "evalue": "name 'df' is not defined",
     "output_type": "error",
     "traceback": [
      "\u001B[0;31m---------------------------------------------------------------------------\u001B[0m",
      "\u001B[0;31mNameError\u001B[0m                                 Traceback (most recent call last)",
      "\u001B[0;32m/var/folders/5r/r915__8156b377bv3jw7nbnr0000gn/T/ipykernel_43455/957343972.py\u001B[0m in \u001B[0;36m<module>\u001B[0;34m\u001B[0m\n\u001B[0;32m----> 1\u001B[0;31m \u001B[0;32mdef\u001B[0m \u001B[0mget_mean_std_from_col_and_side\u001B[0m\u001B[0;34m(\u001B[0m\u001B[0mcolname\u001B[0m\u001B[0;34m,\u001B[0m \u001B[0mside\u001B[0m\u001B[0;34m,\u001B[0m \u001B[0mdf\u001B[0m\u001B[0;34m=\u001B[0m\u001B[0mdf\u001B[0m\u001B[0;34m)\u001B[0m\u001B[0;34m:\u001B[0m\u001B[0;34m\u001B[0m\u001B[0;34m\u001B[0m\u001B[0m\n\u001B[0m\u001B[1;32m      2\u001B[0m     \u001B[0m_df\u001B[0m \u001B[0;34m=\u001B[0m \u001B[0mpd\u001B[0m\u001B[0;34m.\u001B[0m\u001B[0mDataFrame\u001B[0m\u001B[0;34m(\u001B[0m\u001B[0;34m)\u001B[0m\u001B[0;34m\u001B[0m\u001B[0;34m\u001B[0m\u001B[0m\n\u001B[1;32m      3\u001B[0m     \u001B[0;32mif\u001B[0m \u001B[0mside\u001B[0m \u001B[0;32min\u001B[0m \u001B[0;34m[\u001B[0m\u001B[0;34m'l'\u001B[0m\u001B[0;34m,\u001B[0m \u001B[0;34m'L'\u001B[0m\u001B[0;34m,\u001B[0m \u001B[0;34m'la'\u001B[0m\u001B[0;34m,\u001B[0m \u001B[0;34m'La'\u001B[0m\u001B[0;34m,\u001B[0m \u001B[0;34m'LA'\u001B[0m\u001B[0;34m,\u001B[0m \u001B[0;34m'left'\u001B[0m\u001B[0;34m,\u001B[0m \u001B[0;34m'links'\u001B[0m\u001B[0;34m]\u001B[0m\u001B[0;34m:\u001B[0m\u001B[0;34m\u001B[0m\u001B[0;34m\u001B[0m\u001B[0m\n\u001B[1;32m      4\u001B[0m         \u001B[0m_df\u001B[0m \u001B[0;34m=\u001B[0m \u001B[0mdf\u001B[0m\u001B[0;34m[\u001B[0m\u001B[0;34m(\u001B[0m\u001B[0mdf\u001B[0m\u001B[0;34m[\u001B[0m\u001B[0;34m'R/L (FA markieren)'\u001B[0m\u001B[0;34m]\u001B[0m \u001B[0;34m==\u001B[0m \u001B[0;34m'L'\u001B[0m\u001B[0;34m)\u001B[0m \u001B[0;34m|\u001B[0m \u001B[0;34m(\u001B[0m\u001B[0mdf\u001B[0m\u001B[0;34m[\u001B[0m\u001B[0;34m'R/L (FA markieren)'\u001B[0m\u001B[0;34m]\u001B[0m \u001B[0;34m==\u001B[0m \u001B[0;34m'LA'\u001B[0m\u001B[0;34m)\u001B[0m\u001B[0;34m]\u001B[0m\u001B[0;34m\u001B[0m\u001B[0;34m\u001B[0m\u001B[0m\n\u001B[1;32m      5\u001B[0m     \u001B[0;32melif\u001B[0m \u001B[0mside\u001B[0m \u001B[0;32min\u001B[0m \u001B[0;34m[\u001B[0m\u001B[0;34m'b'\u001B[0m\u001B[0;34m,\u001B[0m \u001B[0;34m'B'\u001B[0m\u001B[0;34m,\u001B[0m \u001B[0;34m'ba'\u001B[0m\u001B[0;34m,\u001B[0m \u001B[0;34m'Ba'\u001B[0m\u001B[0;34m,\u001B[0m \u001B[0;34m'BA'\u001B[0m\u001B[0;34m,\u001B[0m \u001B[0;34m'both'\u001B[0m\u001B[0;34m,\u001B[0m \u001B[0;34m'bino'\u001B[0m\u001B[0;34m,\u001B[0m \u001B[0;34m'Bino'\u001B[0m\u001B[0;34m,\u001B[0m \u001B[0;34m'BINO'\u001B[0m\u001B[0;34m]\u001B[0m\u001B[0;34m:\u001B[0m\u001B[0;34m\u001B[0m\u001B[0;34m\u001B[0m\u001B[0m\n",
      "\u001B[0;31mNameError\u001B[0m: name 'df' is not defined"
     ]
    }
   ],
   "source": [
    "def get_mean_std_from_col_and_side(colname, side, df=df):\n",
    "    _df = pd.DataFrame()\n",
    "    if side in ['l', 'L', 'la', 'La', 'LA', 'left', 'links']:\n",
    "        _df = df[(df['R/L (FA markieren)'] == 'L') | (df['R/L (FA markieren)'] == 'LA')]\n",
    "    elif side in ['b', 'B', 'ba', 'Ba', 'BA', 'both', 'bino', 'Bino', 'BINO']:\n",
    "        _df = df[df['R/L (FA markieren)'] == 'Bino']\n",
    "    else:\n",
    "        _df = df[(df['R/L (FA markieren)'] == 'R') | (df['R/L (FA markieren)'] == 'RA')]\n",
    "        \n",
    "    mean = _df[colname].mean()\n",
    "    std = _df[colname].std()\n",
    "    \n",
    "    return mean, std\n",
    "\n",
    "agemean, agestd = get_mean_std_from_col_and_side('Alter','R')\n",
    "agemean, agestd"
   ],
   "metadata": {
    "collapsed": false,
    "pycharm": {
     "name": "#%%\n"
    }
   }
  },
  {
   "cell_type": "code",
   "execution_count": null,
   "outputs": [],
   "source": [],
   "metadata": {
    "collapsed": false,
    "pycharm": {
     "name": "#%%\n"
    }
   }
  },
  {
   "cell_type": "code",
   "execution_count": 117,
   "metadata": {},
   "outputs": [
    {
     "data": {
      "text/plain": [
       "(58.22222222222222, 6.869821281841649)"
      ]
     },
     "execution_count": 117,
     "metadata": {},
     "output_type": "execute_result"
    }
   ],
   "source": [
    "def get_mean_std_from_col_and_side(colname, side, df=df):\n",
    "    _df = pd.DataFrame()\n",
    "    if side in ['l', 'L', 'la', 'La', 'LA', 'left', 'links']:\n",
    "        _df = df[(df['R/L (FA markieren)'] == 'L') | (df['R/L (FA markieren)'] == 'LA')]\n",
    "    elif side in ['b', 'B', 'ba', 'Ba', 'BA', 'both', 'bino', 'Bino', 'BINO']:\n",
    "        _df = df[df['R/L (FA markieren)'] == 'Bino']\n",
    "    else:\n",
    "        _df = df[(df['R/L (FA markieren)'] == 'R') | (df['R/L (FA markieren)'] == 'RA')]\n",
    "        \n",
    "    mean = _df[colname].mean()\n",
    "    std = _df[colname].std()\n",
    "    \n",
    "    return mean, std\n",
    "\n",
    "agemean, agestd = get_mean_std_from_col_and_side('Alter','R')\n",
    "agemean, agestd"
   ]
  },
  {
   "cell_type": "code",
   "execution_count": 119,
   "metadata": {},
   "outputs": [
    {
     "data": {
      "text/plain": [
       "(20.055555555555557, 4.126472801046649)"
      ]
     },
     "execution_count": 119,
     "metadata": {},
     "output_type": "execute_result"
    }
   ],
   "source": [
    "agemean, agestd = get_mean_std_from_col_and_side('IOL [dpt]','L')\n",
    "agemean, agestd"
   ]
  },
  {
   "cell_type": "code",
   "execution_count": 123,
   "metadata": {},
   "outputs": [
    {
     "data": {
      "text/plain": [
       "(-0.004444444444444445, 0.04772607021092118)"
      ]
     },
     "execution_count": 123,
     "metadata": {},
     "output_type": "execute_result"
    }
   ],
   "source": [
    "\n",
    "agemean, agestd = get_mean_std_from_col_and_side('-1.0','R')\n",
    "agemean, agestd\n"
   ]
  },
  {
   "cell_type": "code",
   "execution_count": null,
   "metadata": {},
   "outputs": [],
   "source": [
    "agemean, agestd = get_mean_std_from_col_and_side('IOL [dpt]','L')\n",
    "agemean, agestd"
   ]
  }
 ],
 "metadata": {
  "kernelspec": {
   "display_name": "Python 3 (ipykernel)",
   "language": "python",
   "name": "python3"
  },
  "language_info": {
   "codemirror_mode": {
    "name": "ipython",
    "version": 3
   },
   "file_extension": ".py",
   "mimetype": "text/x-python",
   "name": "python",
   "nbconvert_exporter": "python",
   "pygments_lexer": "ipython3",
   "version": "3.9.7"
  }
 },
 "nbformat": 4,
 "nbformat_minor": 4
}