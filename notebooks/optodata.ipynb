{
 "cells": [
  {
   "cell_type": "code",
   "execution_count": null,
   "outputs": [],
   "source": [
    "import os\n",
    "\n",
    "import numpy as np\n",
    "import pandas as pd"
   ],
   "metadata": {
    "collapsed": false,
    "pycharm": {
     "name": "#%%\n"
    }
   }
  },
  {
   "cell_type": "code",
   "execution_count": null,
   "outputs": [],
   "source": [
    "path = '../data/data.xlsx'\n",
    "tab_name = ' Nils'\n",
    "separator = ';'  # in case comma for smth else is used already and messes with splitting\n",
    "\n",
    "df = pd.read_excel(path,sheet_name=tab_name)\n",
    "df.columns = df.iloc[[0], :].to_csv(header=False, index=False, sep=separator).split(separator)  # rename columns from first row\n",
    "df = df.iloc[1:,:-30]  # drop first row, since its col names only\n",
    "df"
   ],
   "metadata": {
    "collapsed": false,
    "pycharm": {
     "name": "#%%\n"
    }
   }
  },
  {
   "cell_type": "code",
   "execution_count": null,
   "outputs": [],
   "source": [
    "unique_ids = sorted(list(set(list(df['ID'])))[1:])\n",
    "unique_ids"
   ],
   "metadata": {
    "collapsed": false,
    "pycharm": {
     "name": "#%%\n"
    }
   }
  },
  {
   "cell_type": "code",
   "execution_count": null,
   "outputs": [],
   "source": [
    "def get_mean_std_from_col_and_side(colname, side, df=df):\n",
    "    _df = pd.DataFrame()\n",
    "    if side in ['l', 'L', 'la', 'La', 'LA', 'left', 'links']:\n",
    "        _df = df[(df['R/L (FA markieren)'] == 'L') | (df['R/L (FA markieren)'] == 'LA')]\n",
    "    elif side in ['b', 'B', 'ba', 'Ba', 'BA', 'both', 'bino', 'Bino', 'BINO']:\n",
    "        _df = df[df['R/L (FA markieren)'] == 'Bino']\n",
    "    else:\n",
    "        _df = df[(df['R/L (FA markieren)'] == 'R') | (df['R/L (FA markieren)'] == 'RA')]\n",
    "        \n",
    "    mean = _df[colname].mean()\n",
    "    std = _df[colname].std()\n",
    "    \n",
    "    return mean, std\n",
    "\n",
    "agemean, agestd = get_mean_std_from_col_and_side('Alter','R')\n",
    "agemean, agestd"
   ],
   "metadata": {
    "collapsed": false,
    "pycharm": {
     "name": "#%%\n"
    }
   }
  },
  {
   "cell_type": "code",
   "execution_count": null,
   "outputs": [],
   "source": [
    "agemean, agestd = get_mean_std_from_col_and_side('IOL [dpt]','L')\n",
    "agemean, agestd"
   ],
   "metadata": {
    "collapsed": false,
    "pycharm": {
     "name": "#%%\n"
    }
   }
  },
  {
   "cell_type": "code",
   "execution_count": null,
   "outputs": [],
   "source": [
    "\n",
    "agemean, agestd = get_mean_std_from_col_and_side('-1.0','R')\n",
    "agemean, agestd\n"
   ],
   "metadata": {
    "collapsed": false,
    "pycharm": {
     "name": "#%%\n"
    }
   }
  },
  {
   "cell_type": "code",
   "execution_count": null,
   "outputs": [],
   "source": [
    "agemean, agestd = get_mean_std_from_col_and_side('IOL [dpt]','L')\n",
    "agemean, agestd"
   ],
   "metadata": {
    "collapsed": false,
    "pycharm": {
     "name": "#%%\n"
    }
   }
  },
  {
   "cell_type": "code",
   "execution_count": 117,
   "metadata": {},
   "outputs": [
    {
     "data": {
      "text/plain": [
       "(58.22222222222222, 6.869821281841649)"
      ]
     },
     "execution_count": 117,
     "metadata": {},
     "output_type": "execute_result"
    }
   ],
   "source": [
    "def get_mean_std_from_col_and_side(colname, side, df=df):\n",
    "    _df = pd.DataFrame()\n",
    "    if side in ['l', 'L', 'la', 'La', 'LA', 'left', 'links']:\n",
    "        _df = df[(df['R/L (FA markieren)'] == 'L') | (df['R/L (FA markieren)'] == 'LA')]\n",
    "    elif side in ['b', 'B', 'ba', 'Ba', 'BA', 'both', 'bino', 'Bino', 'BINO']:\n",
    "        _df = df[df['R/L (FA markieren)'] == 'Bino']\n",
    "    else:\n",
    "        _df = df[(df['R/L (FA markieren)'] == 'R') | (df['R/L (FA markieren)'] == 'RA')]\n",
    "        \n",
    "    mean = _df[colname].mean()\n",
    "    std = _df[colname].std()\n",
    "    \n",
    "    return mean, std\n",
    "\n",
    "agemean, agestd = get_mean_std_from_col_and_side('Alter','R')\n",
    "agemean, agestd"
   ]
  },
  {
   "cell_type": "code",
   "execution_count": 119,
   "metadata": {},
   "outputs": [
    {
     "data": {
      "text/plain": [
       "(20.055555555555557, 4.126472801046649)"
      ]
     },
     "execution_count": 119,
     "metadata": {},
     "output_type": "execute_result"
    }
   ],
   "source": [
    "agemean, agestd = get_mean_std_from_col_and_side('IOL [dpt]','L')\n",
    "agemean, agestd"
   ]
  },
  {
   "cell_type": "code",
   "execution_count": 123,
   "metadata": {},
   "outputs": [
    {
     "data": {
      "text/plain": [
       "(-0.004444444444444445, 0.04772607021092118)"
      ]
     },
     "execution_count": 123,
     "metadata": {},
     "output_type": "execute_result"
    }
   ],
   "source": [
    "\n",
    "agemean, agestd = get_mean_std_from_col_and_side('-1.0','R')\n",
    "agemean, agestd\n"
   ]
  },
  {
   "cell_type": "code",
   "execution_count": null,
   "metadata": {},
   "outputs": [],
   "source": [
    "agemean, agestd = get_mean_std_from_col_and_side('IOL [dpt]','L')\n",
    "agemean, agestd"
   ]
  }
 ],
 "metadata": {
  "kernelspec": {
   "display_name": "Python 3 (ipykernel)",
   "language": "python",
   "name": "python3"
  },
  "language_info": {
   "codemirror_mode": {
    "name": "ipython",
    "version": 3
   },
   "file_extension": ".py",
   "mimetype": "text/x-python",
   "name": "python",
   "nbconvert_exporter": "python",
   "pygments_lexer": "ipython3",
   "version": "3.9.7"
  }
 },
 "nbformat": 4,
 "nbformat_minor": 4
}